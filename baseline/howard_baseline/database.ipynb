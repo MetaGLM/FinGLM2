{
 "cells": [
  {
   "cell_type": "markdown",
   "metadata": {},
   "source": [
    "### 数据库操作"
   ]
  },
  {
   "cell_type": "code",
   "execution_count": 3,
   "metadata": {},
   "outputs": [
    {
     "name": "stdout",
     "output_type": "stream",
     "text": [
      "{\n",
      "  \"success\": true,\n",
      "  \"data\": [\n",
      "    {\n",
      "      \"EventContent\": \"    公司拟通过全资子公司隆平种业向嘉穗种业转让隆平种业全资子公司湖南兴隆种业有限公司51%股权。\\r\\n    2020年03月31日公告:截至公告披露日,嘉穗种业受让的标的股权已登记至嘉穗种业名下;隆平种业已收到嘉穗种业所支付的本次标的股权转让款的51%(9,368.19万元),嘉穗种业因自身资金周转原因,尚未向隆平种业支付标的股权转让款的49%(9,000.81万元)。\",\n",
      "      \"EventProcedure\": 1019,\n",
      "      \"IfEnded\": null\n",
      "    },\n",
      "    {\n",
      "      \"EventContent\": \"    公司于2020年6月11日与三井物产株式会社签订《股权转让协议》,转让控股子公司湖南湘研种业有限公司20%股权,并放弃优先购买湘研种业10.4%股权的权利。\",\n",
      "      \"EventProcedure\": 1004,\n",
      "      \"IfEnded\": 0\n",
      "    }\n",
      "  ],\n",
      "  \"count\": 2\n",
      "}\n"
     ]
    }
   ],
   "source": [
    "import requests\n",
    "import json\n",
    "\n",
    "access_token = \"xxx\"\n",
    "\n",
    "url = \"https://comm.chatglm.cn/finglm2/api/query\"\n",
    "headers = {\"Content-Type\": \"application/json\", \"Authorization\": f\"Bearer {access_token}\"}\n",
    "\n",
    "\n",
    "sql = \"\"\"\n",
    "SELECT EventContent, EventProcedure, IfEnded\n",
    "FROM astockeventsdb.lc_regroup\n",
    "WHERE CompanyCode = 549\n",
    "AND YEAR(InfoPublDate) = '2020'\n",
    "\"\"\"\n",
    "\n",
    "response = requests.post(url, headers=headers, json={\"sql\": sql, \"limit\": 100})\n",
    "print(json.dumps(response.json(), indent=2, ensure_ascii=False))"
   ]
  }
 ],
 "metadata": {
  "kernelspec": {
   "display_name": "py312",
   "language": "python",
   "name": "python3"
  },
  "language_info": {
   "codemirror_mode": {
    "name": "ipython",
    "version": 3
   },
   "file_extension": ".py",
   "mimetype": "text/x-python",
   "name": "python",
   "nbconvert_exporter": "python",
   "pygments_lexer": "ipython3",
   "version": "3.12.2"
  }
 },
 "nbformat": 4,
 "nbformat_minor": 2
}
